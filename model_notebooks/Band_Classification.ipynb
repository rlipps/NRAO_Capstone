{
 "cells": [
  {
   "cell_type": "markdown",
   "id": "cfc7ebf8-8186-4721-bd87-a052dc685070",
   "metadata": {},
   "source": [
    "## Import Packages"
   ]
  },
  {
   "cell_type": "code",
   "execution_count": 1,
   "id": "d35d91db-fb98-4bee-b249-93eb693df45f",
   "metadata": {},
   "outputs": [],
   "source": [
    "import pandas as pd\n",
    "import numpy as np\n",
    "from sklearn.feature_extraction.text import TfidfVectorizer\n",
    "from sklearn.naive_bayes import MultinomialNB\n",
    "import sklearn\n",
    "from sklearn.model_selection import train_test_split"
   ]
  },
  {
   "cell_type": "markdown",
   "id": "9aad47b2-1ed8-44b4-bfa1-f42edd8634fc",
   "metadata": {},
   "source": [
    "## Create Model"
   ]
  },
  {
   "cell_type": "code",
   "execution_count": 2,
   "id": "a486cfed-3e69-4ea0-942e-c46ecb330771",
   "metadata": {},
   "outputs": [
    {
     "data": {
      "text/plain": [
       "array(['aa', 'ab', 'abandance', ..., 'µm', 'λcdm', 'μm'], dtype=object)"
      ]
     },
     "execution_count": 2,
     "metadata": {},
     "output_type": "execute_result"
    }
   ],
   "source": [
    "# Bring in already cleaned data\n",
    "train_data = pd.read_csv('train_measurements.csv')\n",
    "test_data = pd.read_csv('test_measurements.csv')\n",
    "total_data = pd.concat([train_data, test_data]) # data needs to be concatenated for equal length tfidf features\n",
    "\n",
    "# Tfidf\n",
    "tfidf_vectorizer = TfidfVectorizer()\n",
    "tfidf_projects = tfidf_vectorizer.fit_transform(total_data.lemmatized_sw_text) # vectorize text\n",
    "tfidf_vectorizer.get_feature_names_out()"
   ]
  },
  {
   "cell_type": "code",
   "execution_count": 3,
   "id": "b9206605-23d4-495d-ac02-b867d167a7bf",
   "metadata": {},
   "outputs": [],
   "source": [
    "# Define weights since this is an imbalanced dataset - the number of projects in each band is not uniformly distributed\n",
    "weights = [0] * 9\n",
    "band_count = pd.DataFrame(train_data['band'].value_counts().reset_index()).sort_values(by=['band'])\n",
    "for i in range(len(band_count['count'])):\n",
    "    weights[i] = len(train_data)/(9*band_count['count'].iloc[i])"
   ]
  },
  {
   "cell_type": "code",
   "execution_count": 4,
   "id": "823f25c0-5509-4a4e-ac43-7bc4e7685270",
   "metadata": {},
   "outputs": [
    {
     "data": {
      "text/html": [
       "<style>#sk-container-id-1 {color: black;}#sk-container-id-1 pre{padding: 0;}#sk-container-id-1 div.sk-toggleable {background-color: white;}#sk-container-id-1 label.sk-toggleable__label {cursor: pointer;display: block;width: 100%;margin-bottom: 0;padding: 0.3em;box-sizing: border-box;text-align: center;}#sk-container-id-1 label.sk-toggleable__label-arrow:before {content: \"▸\";float: left;margin-right: 0.25em;color: #696969;}#sk-container-id-1 label.sk-toggleable__label-arrow:hover:before {color: black;}#sk-container-id-1 div.sk-estimator:hover label.sk-toggleable__label-arrow:before {color: black;}#sk-container-id-1 div.sk-toggleable__content {max-height: 0;max-width: 0;overflow: hidden;text-align: left;background-color: #f0f8ff;}#sk-container-id-1 div.sk-toggleable__content pre {margin: 0.2em;color: black;border-radius: 0.25em;background-color: #f0f8ff;}#sk-container-id-1 input.sk-toggleable__control:checked~div.sk-toggleable__content {max-height: 200px;max-width: 100%;overflow: auto;}#sk-container-id-1 input.sk-toggleable__control:checked~label.sk-toggleable__label-arrow:before {content: \"▾\";}#sk-container-id-1 div.sk-estimator input.sk-toggleable__control:checked~label.sk-toggleable__label {background-color: #d4ebff;}#sk-container-id-1 div.sk-label input.sk-toggleable__control:checked~label.sk-toggleable__label {background-color: #d4ebff;}#sk-container-id-1 input.sk-hidden--visually {border: 0;clip: rect(1px 1px 1px 1px);clip: rect(1px, 1px, 1px, 1px);height: 1px;margin: -1px;overflow: hidden;padding: 0;position: absolute;width: 1px;}#sk-container-id-1 div.sk-estimator {font-family: monospace;background-color: #f0f8ff;border: 1px dotted black;border-radius: 0.25em;box-sizing: border-box;margin-bottom: 0.5em;}#sk-container-id-1 div.sk-estimator:hover {background-color: #d4ebff;}#sk-container-id-1 div.sk-parallel-item::after {content: \"\";width: 100%;border-bottom: 1px solid gray;flex-grow: 1;}#sk-container-id-1 div.sk-label:hover label.sk-toggleable__label {background-color: #d4ebff;}#sk-container-id-1 div.sk-serial::before {content: \"\";position: absolute;border-left: 1px solid gray;box-sizing: border-box;top: 0;bottom: 0;left: 50%;z-index: 0;}#sk-container-id-1 div.sk-serial {display: flex;flex-direction: column;align-items: center;background-color: white;padding-right: 0.2em;padding-left: 0.2em;position: relative;}#sk-container-id-1 div.sk-item {position: relative;z-index: 1;}#sk-container-id-1 div.sk-parallel {display: flex;align-items: stretch;justify-content: center;background-color: white;position: relative;}#sk-container-id-1 div.sk-item::before, #sk-container-id-1 div.sk-parallel-item::before {content: \"\";position: absolute;border-left: 1px solid gray;box-sizing: border-box;top: 0;bottom: 0;left: 50%;z-index: -1;}#sk-container-id-1 div.sk-parallel-item {display: flex;flex-direction: column;z-index: 1;position: relative;background-color: white;}#sk-container-id-1 div.sk-parallel-item:first-child::after {align-self: flex-end;width: 50%;}#sk-container-id-1 div.sk-parallel-item:last-child::after {align-self: flex-start;width: 50%;}#sk-container-id-1 div.sk-parallel-item:only-child::after {width: 0;}#sk-container-id-1 div.sk-dashed-wrapped {border: 1px dashed gray;margin: 0 0.4em 0.5em 0.4em;box-sizing: border-box;padding-bottom: 0.4em;background-color: white;}#sk-container-id-1 div.sk-label label {font-family: monospace;font-weight: bold;display: inline-block;line-height: 1.2em;}#sk-container-id-1 div.sk-label-container {text-align: center;}#sk-container-id-1 div.sk-container {/* jupyter's `normalize.less` sets `[hidden] { display: none; }` but bootstrap.min.css set `[hidden] { display: none !important; }` so we also need the `!important` here to be able to override the default hidden behavior on the sphinx rendered scikit-learn.org. See: https://github.com/scikit-learn/scikit-learn/issues/21755 */display: inline-block !important;position: relative;}#sk-container-id-1 div.sk-text-repr-fallback {display: none;}</style><div id=\"sk-container-id-1\" class=\"sk-top-container\"><div class=\"sk-text-repr-fallback\"><pre>MultinomialNB(class_prior=[122.48611111111111, 0.4183983300123351,\n",
       "                           1.9480892423238347, 4.711004273504273,\n",
       "                           0.2839434624424482, 0.5439294415147871,\n",
       "                           2.9514725568942435, 7.231652316523165,\n",
       "                           25.78654970760234])</pre><b>In a Jupyter environment, please rerun this cell to show the HTML representation or trust the notebook. <br />On GitHub, the HTML representation is unable to render, please try loading this page with nbviewer.org.</b></div><div class=\"sk-container\" hidden><div class=\"sk-item\"><div class=\"sk-estimator sk-toggleable\"><input class=\"sk-toggleable__control sk-hidden--visually\" id=\"sk-estimator-id-1\" type=\"checkbox\" checked><label for=\"sk-estimator-id-1\" class=\"sk-toggleable__label sk-toggleable__label-arrow\">MultinomialNB</label><div class=\"sk-toggleable__content\"><pre>MultinomialNB(class_prior=[122.48611111111111, 0.4183983300123351,\n",
       "                           1.9480892423238347, 4.711004273504273,\n",
       "                           0.2839434624424482, 0.5439294415147871,\n",
       "                           2.9514725568942435, 7.231652316523165,\n",
       "                           25.78654970760234])</pre></div></div></div></div></div>"
      ],
      "text/plain": [
       "MultinomialNB(class_prior=[122.48611111111111, 0.4183983300123351,\n",
       "                           1.9480892423238347, 4.711004273504273,\n",
       "                           0.2839434624424482, 0.5439294415147871,\n",
       "                           2.9514725568942435, 7.231652316523165,\n",
       "                           25.78654970760234])"
      ]
     },
     "execution_count": 4,
     "metadata": {},
     "output_type": "execute_result"
    }
   ],
   "source": [
    "# Call model: Multinomial Naive Bayes since it works well with text, use weights\n",
    "clf = sklearn.naive_bayes.MultinomialNB(class_prior = weights)\n",
    "clf.fit(tfidf_projects[0:len(train_data)], train_data['band'])"
   ]
  },
  {
   "cell_type": "code",
   "execution_count": 5,
   "id": "35980756-9058-4569-b025-bc40af16ac29",
   "metadata": {},
   "outputs": [],
   "source": [
    "# Obtain probabilities of each class for each project\n",
    "sorted_indices = np.argsort(clf.predict_proba(tfidf_projects[len(train_data):len(total_data)])) # organizes index predictions from lowest probability to highest probability\n",
    "\n",
    "for prediction in range(len(sorted_indices)):\n",
    "    for band in range(len(sorted_indices[prediction])):\n",
    "        if sorted_indices[prediction][band] != 0:\n",
    "            sorted_indices[prediction][band] += 2 # need to add 2 to index to equal the band that was predicted band (3, 4, 5, 6, 7, 8, 9, or 10)\n",
    "        else:\n",
    "            sorted_indices[prediction][band] += 1 # need to add 1 to index to equal the band that was predicted (band 1)"
   ]
  },
  {
   "cell_type": "code",
   "execution_count": 6,
   "id": "de654f8c-aa7f-4449-bebf-4f74e3af2f2d",
   "metadata": {
    "tags": []
   },
   "outputs": [],
   "source": [
    "# Add project code to ranked band predictions\n",
    "list_proj = []\n",
    "for i in range(len(sorted_indices)):\n",
    "    pred_list = []\n",
    "    pred_list.append(test_data['project_code'].iloc[i])\n",
    "    pred_list.append(sorted_indices[i].tolist())\n",
    "    list_proj.append(pred_list)\n",
    "    \n",
    "band_predictions = pd.DataFrame(list_proj)\n",
    "band_predictions.columns = ['project_code', 'band_predictions']\n",
    "band_predictions = band_predictions.drop_duplicates(subset='project_code', keep='first') # only keep one prediction per project code\n",
    "band_predictions = band_predictions.set_index('project_code')\n",
    "band_predictions.to_csv('band_prediction.csv', index = True) # save data frame of project and vector of band predictions (least likely to most likely band) as csv"
   ]
  }
 ],
 "metadata": {
  "kernelspec": {
   "display_name": "Python 3 (ipykernel)",
   "language": "python",
   "name": "python3"
  },
  "language_info": {
   "codemirror_mode": {
    "name": "ipython",
    "version": 3
   },
   "file_extension": ".py",
   "mimetype": "text/x-python",
   "name": "python",
   "nbconvert_exporter": "python",
   "pygments_lexer": "ipython3",
   "version": "3.11.5"
  }
 },
 "nbformat": 4,
 "nbformat_minor": 5
}
