{
 "cells": [
  {
   "cell_type": "markdown",
   "metadata": {},
   "source": [
    "# Deep Learning Aggregate Results"
   ]
  },
  {
   "cell_type": "markdown",
   "metadata": {},
   "source": [
    "## Line/Continuum Classifier"
   ]
  },
  {
   "cell_type": "code",
   "execution_count": null,
   "metadata": {},
   "outputs": [],
   "source": [
    "line_continuum = {'model':['log_reg', 'MLP', 'BERT', 'SciBERT'],\n",
    "                    'accuracy':[0.86, 0.83, 0.86, ],\n",
    "                    'line_prec':[0.88, 0.94, ],\n",
    "                    'cont_prec':[0.72, 0.57, ],\n",
    "                    'line_rec':[0.94, 0.85, ],\n",
    "                    'cont_rec':[0.55, 0.77, ],\n",
    "                    'line_f1':[0.91, 0.89, ],\n",
    "                    'cont_f1':[0.63, 0.66, ]}"
   ]
  }
 ],
 "metadata": {
  "kernelspec": {
   "display_name": "nraotest",
   "language": "python",
   "name": "python3"
  },
  "language_info": {
   "name": "python",
   "version": "3.11.3"
  }
 },
 "nbformat": 4,
 "nbformat_minor": 2
}
