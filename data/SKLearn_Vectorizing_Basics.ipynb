{
 "cells": [
  {
   "cell_type": "code",
   "execution_count": 22,
   "metadata": {},
   "outputs": [],
   "source": [
    "import numpy as np\n",
    "import pandas as pd\n",
    "import textparser   # For potential use later\n",
    "from sklearn.feature_extraction.text import CountVectorizer\n",
    "from sklearn.feature_extraction.text import TfidfVectorizer"
   ]
  },
  {
   "cell_type": "markdown",
   "metadata": {},
   "source": [
    "## Vectorization Using sklearn"
   ]
  },
  {
   "cell_type": "markdown",
   "metadata": {},
   "source": [
    "### Read Data"
   ]
  },
  {
   "cell_type": "code",
   "execution_count": 8,
   "metadata": {},
   "outputs": [
    {
     "data": {
      "text/html": [
       "<div>\n",
       "<style scoped>\n",
       "    .dataframe tbody tr th:only-of-type {\n",
       "        vertical-align: middle;\n",
       "    }\n",
       "\n",
       "    .dataframe tbody tr th {\n",
       "        vertical-align: top;\n",
       "    }\n",
       "\n",
       "    .dataframe thead th {\n",
       "        text-align: right;\n",
       "    }\n",
       "</style>\n",
       "<table border=\"1\" class=\"dataframe\">\n",
       "  <thead>\n",
       "    <tr style=\"text-align: right;\">\n",
       "      <th></th>\n",
       "      <th>project_code</th>\n",
       "      <th>project_title</th>\n",
       "      <th>project_abstract</th>\n",
       "      <th>fs_type</th>\n",
       "      <th>target</th>\n",
       "      <th>raw_text</th>\n",
       "      <th>standardized_text</th>\n",
       "      <th>no_sw_text</th>\n",
       "      <th>lemmatized_sw_text</th>\n",
       "      <th>lemmatized_no_sw_text</th>\n",
       "    </tr>\n",
       "  </thead>\n",
       "  <tbody>\n",
       "    <tr>\n",
       "      <th>0</th>\n",
       "      <td>2018.1.01205.L</td>\n",
       "      <td>Fifty AU STudy of the chemistry in the disk/en...</td>\n",
       "      <td>The huge variety of planetary systems discover...</td>\n",
       "      <td>line</td>\n",
       "      <td>1</td>\n",
       "      <td>Fifty AU STudy of the chemistry in the disk/en...</td>\n",
       "      <td>fifty au study of the chemistry in the disk en...</td>\n",
       "      <td>fifty au study chemistry disk envelope system ...</td>\n",
       "      <td>fifty au study of the chemistry in the disk en...</td>\n",
       "      <td>fifty au study chemistry disk envelope system ...</td>\n",
       "    </tr>\n",
       "    <tr>\n",
       "      <th>1</th>\n",
       "      <td>2022.1.00316.L</td>\n",
       "      <td>COMPASS: Complex Organic Molecules in Protosta...</td>\n",
       "      <td>The emergence of complex organic molecules in ...</td>\n",
       "      <td>line</td>\n",
       "      <td>1</td>\n",
       "      <td>COMPASS: Complex Organic Molecules in Protosta...</td>\n",
       "      <td>compass complex organic molecules in protostar...</td>\n",
       "      <td>compass complex organic molecules protostars s...</td>\n",
       "      <td>compass complex organic molecule in protostars...</td>\n",
       "      <td>compass complex organic molecule protostars sp...</td>\n",
       "    </tr>\n",
       "    <tr>\n",
       "      <th>2</th>\n",
       "      <td>2017.1.00161.L</td>\n",
       "      <td>ALCHEMI: the ALMA Comprehensive High-resolutio...</td>\n",
       "      <td>A great variety in gas composition is observed...</td>\n",
       "      <td>line</td>\n",
       "      <td>1</td>\n",
       "      <td>ALCHEMI: the ALMA Comprehensive High-resolutio...</td>\n",
       "      <td>alchemi the comprehensive high resolution extr...</td>\n",
       "      <td>alchemi comprehensive high resolution extragal...</td>\n",
       "      <td>alchemi the comprehensive high resolution extr...</td>\n",
       "      <td>alchemi comprehensive high resolution extragal...</td>\n",
       "    </tr>\n",
       "    <tr>\n",
       "      <th>3</th>\n",
       "      <td>2021.1.01616.L</td>\n",
       "      <td>ALMA JELLY - Survey of Nearby Jellyfish and Ra...</td>\n",
       "      <td>We propose the first ever statistical survey o...</td>\n",
       "      <td>line</td>\n",
       "      <td>1</td>\n",
       "      <td>ALMA JELLY - Survey of Nearby Jellyfish and Ra...</td>\n",
       "      <td>jelly survey of nearby jellyfish and ram press...</td>\n",
       "      <td>jelly survey nearby jellyfish ram pressure str...</td>\n",
       "      <td>jelly survey of nearby jellyfish and ram press...</td>\n",
       "      <td>jelly survey nearby jellyfish ram pressure str...</td>\n",
       "    </tr>\n",
       "    <tr>\n",
       "      <th>4</th>\n",
       "      <td>2021.1.00869.L</td>\n",
       "      <td>Bulge symmetry or not? The hidden dynamics of ...</td>\n",
       "      <td>A radio survey of red giant SiO sources in the...</td>\n",
       "      <td>line</td>\n",
       "      <td>1</td>\n",
       "      <td>Bulge symmetry or not? The hidden dynamics of ...</td>\n",
       "      <td>bulge symmetry or not the hidden dynamics of t...</td>\n",
       "      <td>bulge symmetry hidden dynamics far side radio ...</td>\n",
       "      <td>bulge symmetry or not the hidden dynamic of th...</td>\n",
       "      <td>bulge symmetry hidden dynamic far side radio s...</td>\n",
       "    </tr>\n",
       "  </tbody>\n",
       "</table>\n",
       "</div>"
      ],
      "text/plain": [
       "     project_code                                      project_title  \\\n",
       "0  2018.1.01205.L  Fifty AU STudy of the chemistry in the disk/en...   \n",
       "1  2022.1.00316.L  COMPASS: Complex Organic Molecules in Protosta...   \n",
       "2  2017.1.00161.L  ALCHEMI: the ALMA Comprehensive High-resolutio...   \n",
       "3  2021.1.01616.L  ALMA JELLY - Survey of Nearby Jellyfish and Ra...   \n",
       "4  2021.1.00869.L  Bulge symmetry or not? The hidden dynamics of ...   \n",
       "\n",
       "                                    project_abstract fs_type  target  \\\n",
       "0  The huge variety of planetary systems discover...    line       1   \n",
       "1  The emergence of complex organic molecules in ...    line       1   \n",
       "2  A great variety in gas composition is observed...    line       1   \n",
       "3  We propose the first ever statistical survey o...    line       1   \n",
       "4  A radio survey of red giant SiO sources in the...    line       1   \n",
       "\n",
       "                                            raw_text  \\\n",
       "0  Fifty AU STudy of the chemistry in the disk/en...   \n",
       "1  COMPASS: Complex Organic Molecules in Protosta...   \n",
       "2  ALCHEMI: the ALMA Comprehensive High-resolutio...   \n",
       "3  ALMA JELLY - Survey of Nearby Jellyfish and Ra...   \n",
       "4  Bulge symmetry or not? The hidden dynamics of ...   \n",
       "\n",
       "                                   standardized_text  \\\n",
       "0  fifty au study of the chemistry in the disk en...   \n",
       "1  compass complex organic molecules in protostar...   \n",
       "2  alchemi the comprehensive high resolution extr...   \n",
       "3  jelly survey of nearby jellyfish and ram press...   \n",
       "4  bulge symmetry or not the hidden dynamics of t...   \n",
       "\n",
       "                                          no_sw_text  \\\n",
       "0  fifty au study chemistry disk envelope system ...   \n",
       "1  compass complex organic molecules protostars s...   \n",
       "2  alchemi comprehensive high resolution extragal...   \n",
       "3  jelly survey nearby jellyfish ram pressure str...   \n",
       "4  bulge symmetry hidden dynamics far side radio ...   \n",
       "\n",
       "                                  lemmatized_sw_text  \\\n",
       "0  fifty au study of the chemistry in the disk en...   \n",
       "1  compass complex organic molecule in protostars...   \n",
       "2  alchemi the comprehensive high resolution extr...   \n",
       "3  jelly survey of nearby jellyfish and ram press...   \n",
       "4  bulge symmetry or not the hidden dynamic of th...   \n",
       "\n",
       "                               lemmatized_no_sw_text  \n",
       "0  fifty au study chemistry disk envelope system ...  \n",
       "1  compass complex organic molecule protostars sp...  \n",
       "2  alchemi comprehensive high resolution extragal...  \n",
       "3  jelly survey nearby jellyfish ram pressure str...  \n",
       "4  bulge symmetry hidden dynamic far side radio s...  "
      ]
     },
     "execution_count": 8,
     "metadata": {},
     "output_type": "execute_result"
    }
   ],
   "source": [
    "projects = pd.read_csv('nrao_projects.csv')\n",
    "projects.head()"
   ]
  },
  {
   "cell_type": "markdown",
   "metadata": {},
   "source": [
    "### Select only line projects"
   ]
  },
  {
   "cell_type": "code",
   "execution_count": 9,
   "metadata": {},
   "outputs": [
    {
     "data": {
      "text/plain": [
       "(3628, 10)"
      ]
     },
     "execution_count": 9,
     "metadata": {},
     "output_type": "execute_result"
    }
   ],
   "source": [
    "line_projects = projects[projects['fs_type'] == 'line']\n",
    "line_projects.shape"
   ]
  },
  {
   "cell_type": "markdown",
   "metadata": {},
   "source": [
    "### Use lemmatized text with stopwords removed"
   ]
  },
  {
   "cell_type": "code",
   "execution_count": 10,
   "metadata": {},
   "outputs": [
    {
     "data": {
      "text/html": [
       "<div>\n",
       "<style scoped>\n",
       "    .dataframe tbody tr th:only-of-type {\n",
       "        vertical-align: middle;\n",
       "    }\n",
       "\n",
       "    .dataframe tbody tr th {\n",
       "        vertical-align: top;\n",
       "    }\n",
       "\n",
       "    .dataframe thead th {\n",
       "        text-align: right;\n",
       "    }\n",
       "</style>\n",
       "<table border=\"1\" class=\"dataframe\">\n",
       "  <thead>\n",
       "    <tr style=\"text-align: right;\">\n",
       "      <th></th>\n",
       "      <th>lemmatized_no_sw_text</th>\n",
       "    </tr>\n",
       "  </thead>\n",
       "  <tbody>\n",
       "    <tr>\n",
       "      <th>0</th>\n",
       "      <td>fifty au study chemistry disk envelope system ...</td>\n",
       "    </tr>\n",
       "    <tr>\n",
       "      <th>1</th>\n",
       "      <td>compass complex organic molecule protostars sp...</td>\n",
       "    </tr>\n",
       "    <tr>\n",
       "      <th>2</th>\n",
       "      <td>alchemi comprehensive high resolution extragal...</td>\n",
       "    </tr>\n",
       "    <tr>\n",
       "      <th>3</th>\n",
       "      <td>jelly survey nearby jellyfish ram pressure str...</td>\n",
       "    </tr>\n",
       "    <tr>\n",
       "      <th>4</th>\n",
       "      <td>bulge symmetry hidden dynamic far side radio s...</td>\n",
       "    </tr>\n",
       "  </tbody>\n",
       "</table>\n",
       "</div>"
      ],
      "text/plain": [
       "                               lemmatized_no_sw_text\n",
       "0  fifty au study chemistry disk envelope system ...\n",
       "1  compass complex organic molecule protostars sp...\n",
       "2  alchemi comprehensive high resolution extragal...\n",
       "3  jelly survey nearby jellyfish ram pressure str...\n",
       "4  bulge symmetry hidden dynamic far side radio s..."
      ]
     },
     "execution_count": 10,
     "metadata": {},
     "output_type": "execute_result"
    }
   ],
   "source": [
    "line_projects = line_projects[['lemmatized_no_sw_text']]\n",
    "line_projects.head()"
   ]
  },
  {
   "cell_type": "markdown",
   "metadata": {},
   "source": [
    "### Generate count vectorized data frame\n",
    "This is a data frame with columns representing all terms in the corpus, populated by term counts within each document (project title and abstract)."
   ]
  },
  {
   "cell_type": "code",
   "execution_count": 13,
   "metadata": {},
   "outputs": [
    {
     "data": {
      "text/plain": [
       "array(['aa', 'aalto', 'ab', ..., 'µm', 'λcdm', 'μm'], dtype=object)"
      ]
     },
     "execution_count": 13,
     "metadata": {},
     "output_type": "execute_result"
    }
   ],
   "source": [
    "count_vectorizer = CountVectorizer()\n",
    "cv_projects = count_vectorizer.fit_transform(line_projects.lemmatized_no_sw_text)\n",
    "count_vectorizer.get_feature_names_out()"
   ]
  },
  {
   "cell_type": "code",
   "execution_count": 20,
   "metadata": {},
   "outputs": [
    {
     "data": {
      "text/plain": [
       "(3628, 8641)"
      ]
     },
     "execution_count": 20,
     "metadata": {},
     "output_type": "execute_result"
    }
   ],
   "source": [
    "cv_projects.shape"
   ]
  },
  {
   "cell_type": "markdown",
   "metadata": {},
   "source": [
    "### Generate tf-idf vectorized data frame\n",
    "This is a data frame with columns representing all terms in the corpus, populated by term tf-idf within each document (project title and abstract).\n",
    "\n",
    "Note, this uses scikit-learn's base tf-idf formula."
   ]
  },
  {
   "cell_type": "code",
   "execution_count": 15,
   "metadata": {},
   "outputs": [
    {
     "data": {
      "text/plain": [
       "array(['aa', 'aalto', 'ab', ..., 'µm', 'λcdm', 'μm'], dtype=object)"
      ]
     },
     "execution_count": 15,
     "metadata": {},
     "output_type": "execute_result"
    }
   ],
   "source": [
    "tfidf_vectorizer = TfidfVectorizer()\n",
    "tfidf_projects = tfidf_vectorizer.fit_transform(line_projects.lemmatized_no_sw_text)\n",
    "tfidf_vectorizer.get_feature_names_out()"
   ]
  },
  {
   "cell_type": "code",
   "execution_count": 21,
   "metadata": {},
   "outputs": [
    {
     "data": {
      "text/plain": [
       "(3628, 8641)"
      ]
     },
     "execution_count": 21,
     "metadata": {},
     "output_type": "execute_result"
    }
   ],
   "source": [
    "tfidf_projects.shape"
   ]
  }
 ],
 "metadata": {
  "kernelspec": {
   "display_name": "nraotest",
   "language": "python",
   "name": "python3"
  },
  "language_info": {
   "codemirror_mode": {
    "name": "ipython",
    "version": 3
   },
   "file_extension": ".py",
   "mimetype": "text/x-python",
   "name": "python",
   "nbconvert_exporter": "python",
   "pygments_lexer": "ipython3",
   "version": "3.11.3"
  }
 },
 "nbformat": 4,
 "nbformat_minor": 2
}
