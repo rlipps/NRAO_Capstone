{
 "cells": [
  {
   "cell_type": "markdown",
   "metadata": {},
   "source": [
    "# Deep Learning Aggregate Results"
   ]
  },
  {
   "cell_type": "markdown",
   "metadata": {},
   "source": [
    "## Line/Continuum Classifier"
   ]
  },
  {
   "cell_type": "code",
   "execution_count": null,
   "metadata": {},
   "outputs": [],
   "source": [
    "line_continuum = {'model':['log_reg', 'MLP', 'BERT', 'SciBERT'],\n",
    "                    'accuracy':[, , 0.8709, 0.8664],\n",
    "                    'line_prec':[, , 0.9021, 0.9079],\n",
    "                    'cont_prec':[, , 0.6846, 0.6507],\n",
    "                    'line_rec':[, , 0.9447, 0.9312],\n",
    "                    'cont_rec':[, , 0.5394, 0.5758],\n",
    "                    'line_f1':[, , 0.9229, 0.9194],\n",
    "                    'cont_f1':[, , 0.6034, 0.6109]}"
   ]
  }
 ],
 "metadata": {
  "kernelspec": {
   "display_name": "nraotest",
   "language": "python",
   "name": "python3"
  },
  "language_info": {
   "name": "python",
   "version": "3.11.3"
  }
 },
 "nbformat": 4,
 "nbformat_minor": 2
}
